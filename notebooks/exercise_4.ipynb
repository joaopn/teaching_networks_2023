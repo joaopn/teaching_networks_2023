{
 "cells": [
  {
   "attachments": {},
   "cell_type": "markdown",
   "metadata": {},
   "source": [
    "# Exercises Chapter 4"
   ]
  },
  {
   "attachments": {},
   "cell_type": "markdown",
   "metadata": {},
   "source": [
    "### Exercise 4.4"
   ]
  },
  {
   "cell_type": "code",
   "execution_count": 1,
   "metadata": {},
   "outputs": [],
   "source": [
    "import numpy as np\n",
    "import networkx as nx\n",
    "\n",
    "def print_pagerank(A, R, tol=1e-3, max_iter=1000, print_steps=True):\n",
    "    n = A.shape[0]\n",
    "    out_degree = np.sum(A, axis=1)\n",
    "\n",
    "    for k in range(max_iter):\n",
    "        if print_steps:\n",
    "            print('step %d: %s' % (k, R))\n",
    "\n",
    "        R_new = np.zeros(n)\n",
    "        for i in range(n):\n",
    "            for j in range(n):\n",
    "                R_new[i] += A[j,i]*R[j]/out_degree[j]\n",
    "                \n",
    "        if max(abs(R_new - R)) < tol:\n",
    "            print('converged on step %d' % k)\n",
    "            return R_new\n",
    "\n",
    "        R = R_new"
   ]
  },
  {
   "cell_type": "code",
   "execution_count": 2,
   "metadata": {},
   "outputs": [
    {
     "name": "stdout",
     "output_type": "stream",
     "text": [
      "step 0: [0.33333333 0.33333333 0.33333333]\n",
      "step 1: [0.5        0.33333333 0.16666667]\n",
      "step 2: [0.41666667 0.33333333 0.25      ]\n",
      "step 3: [0.45833333 0.33333333 0.20833333]\n",
      "step 4: [0.4375     0.33333333 0.22916667]\n",
      "step 5: [0.44791667 0.33333333 0.21875   ]\n",
      "step 6: [0.44270833 0.33333333 0.22395833]\n",
      "step 7: [0.4453125  0.33333333 0.22135417]\n",
      "step 8: [0.44401042 0.33333333 0.22265625]\n",
      "converged on step 8\n"
     ]
    },
    {
     "data": {
      "text/plain": [
       "array([0.44466146, 0.33333333, 0.22200521])"
      ]
     },
     "execution_count": 2,
     "metadata": {},
     "output_type": "execute_result"
    }
   ],
   "source": [
    "D = nx.DiGraph()\n",
    "D.add_edges_from([('A','C'), ('C','A'), ('C', 'B'), ('A','B'), ('B','A')])\n",
    "\n",
    "A = nx.adjacency_matrix(D, nodelist=sorted(D.nodes())).todense()\n",
    "n = D.number_of_nodes()\n",
    "R = np.ones(n)/n\n",
    "\n",
    "print_pagerank(A,R)"
   ]
  },
  {
   "attachments": {},
   "cell_type": "markdown",
   "metadata": {},
   "source": [
    "### Exercise 4.9"
   ]
  },
  {
   "cell_type": "code",
   "execution_count": 3,
   "metadata": {},
   "outputs": [],
   "source": [
    "# Set up your keys and tokens\n",
    "consumer_key = ''\n",
    "consumer_secret = ''\n",
    "access_token = ''\n",
    "access_token_secret = ''\n",
    "bearer_token = ''"
   ]
  },
  {
   "cell_type": "code",
   "execution_count": 4,
   "metadata": {},
   "outputs": [],
   "source": [
    "import tweepy\n",
    "\n",
    "# Authenticate to Twitter\n",
    "auth = tweepy.OAuthHandler(consumer_key, consumer_secret)\n",
    "auth.set_access_token(access_token, access_token_secret)\n",
    "\n",
    "# Create API V1 object\n",
    "api = tweepy.API(auth)\n",
    "\n",
    "user = 'joao_p_n'\n",
    "\n",
    "# Get all followers of the user\n",
    "followers = api.get_follower_ids(screen_name = user)\n",
    "\n",
    "# limited to 100 users per request\n",
    "followers_data = api.lookup_users(user_id=followers)"
   ]
  },
  {
   "cell_type": "code",
   "execution_count": 5,
   "metadata": {},
   "outputs": [
    {
     "name": "stdout",
     "output_type": "stream",
     "text": [
      "User joao_p_n has 82 followers. Their followers have on average 1827 followers.\n"
     ]
    },
    {
     "data": {
      "text/html": [
       "<div>\n",
       "<style scoped>\n",
       "    .dataframe tbody tr th:only-of-type {\n",
       "        vertical-align: middle;\n",
       "    }\n",
       "\n",
       "    .dataframe tbody tr th {\n",
       "        vertical-align: top;\n",
       "    }\n",
       "\n",
       "    .dataframe thead th {\n",
       "        text-align: right;\n",
       "    }\n",
       "</style>\n",
       "<table border=\"1\" class=\"dataframe\">\n",
       "  <thead>\n",
       "    <tr style=\"text-align: right;\">\n",
       "      <th></th>\n",
       "      <th>screen_name</th>\n",
       "      <th>followers_count</th>\n",
       "      <th>friends_count</th>\n",
       "      <th>statuses_count</th>\n",
       "    </tr>\n",
       "  </thead>\n",
       "  <tbody>\n",
       "    <tr>\n",
       "      <th>0</th>\n",
       "      <td>aroyehunS</td>\n",
       "      <td>39</td>\n",
       "      <td>211</td>\n",
       "      <td>6</td>\n",
       "    </tr>\n",
       "    <tr>\n",
       "      <th>1</th>\n",
       "      <td>lue_jula</td>\n",
       "      <td>465</td>\n",
       "      <td>1560</td>\n",
       "      <td>66</td>\n",
       "    </tr>\n",
       "    <tr>\n",
       "      <th>2</th>\n",
       "      <td>HaiLina16</td>\n",
       "      <td>36</td>\n",
       "      <td>66</td>\n",
       "      <td>0</td>\n",
       "    </tr>\n",
       "    <tr>\n",
       "      <th>3</th>\n",
       "      <td>emmafraxanet</td>\n",
       "      <td>260</td>\n",
       "      <td>221</td>\n",
       "      <td>84</td>\n",
       "    </tr>\n",
       "    <tr>\n",
       "      <th>4</th>\n",
       "      <td>apeksha_sh</td>\n",
       "      <td>223</td>\n",
       "      <td>248</td>\n",
       "      <td>154</td>\n",
       "    </tr>\n",
       "  </tbody>\n",
       "</table>\n",
       "</div>"
      ],
      "text/plain": [
       "    screen_name  followers_count  friends_count  statuses_count\n",
       "0     aroyehunS               39            211               6\n",
       "1      lue_jula              465           1560              66\n",
       "2     HaiLina16               36             66               0\n",
       "3  emmafraxanet              260            221              84\n",
       "4    apeksha_sh              223            248             154"
      ]
     },
     "execution_count": 5,
     "metadata": {},
     "output_type": "execute_result"
    }
   ],
   "source": [
    "data_followers = []\n",
    "for follower in followers_data:\n",
    "    data_followers.append([follower.screen_name, follower.followers_count, follower.friends_count, follower.statuses_count])\n",
    "data_followers = pd.DataFrame(data_followers, columns=['screen_name', 'followers_count', 'friends_count', 'statuses_count'])\n",
    "\n",
    "print('User %s has %d followers. Their followers have on average %d followers.' % (user, data_followers.shape[0], data_followers.followers_count.mean()))\n",
    "\n",
    "data_followers.head()"
   ]
  },
  {
   "cell_type": "code",
   "execution_count": 6,
   "metadata": {},
   "outputs": [],
   "source": [
    "# Using the V2 API\n",
    "\n",
    "API2 = tweepy.Client(bearer_token=bearer_token, consumer_key=consumer_key, consumer_secret=consumer_secret, access_token=access_token, access_token_secret=access_token_secret)\n",
    "\n",
    "user_id = API2.get_user(username=user).data.id\n",
    "\n",
    "follower_ids = API2.get_users_followers(id=user_id)\n",
    "\n",
    "followers = API2.get_users(usernames=follower_ids.data, user_fields=['public_metrics'])"
   ]
  },
  {
   "cell_type": "code",
   "execution_count": 7,
   "metadata": {},
   "outputs": [
    {
     "name": "stdout",
     "output_type": "stream",
     "text": [
      "User joao_p_n has 82 followers. Their followers have on average 1827 followers.\n"
     ]
    },
    {
     "data": {
      "text/html": [
       "<div>\n",
       "<style scoped>\n",
       "    .dataframe tbody tr th:only-of-type {\n",
       "        vertical-align: middle;\n",
       "    }\n",
       "\n",
       "    .dataframe tbody tr th {\n",
       "        vertical-align: top;\n",
       "    }\n",
       "\n",
       "    .dataframe thead th {\n",
       "        text-align: right;\n",
       "    }\n",
       "</style>\n",
       "<table border=\"1\" class=\"dataframe\">\n",
       "  <thead>\n",
       "    <tr style=\"text-align: right;\">\n",
       "      <th></th>\n",
       "      <th>screen_name</th>\n",
       "      <th>followers_count</th>\n",
       "      <th>friends_count</th>\n",
       "      <th>statuses_count</th>\n",
       "    </tr>\n",
       "  </thead>\n",
       "  <tbody>\n",
       "    <tr>\n",
       "      <th>0</th>\n",
       "      <td>aroyehunS</td>\n",
       "      <td>39</td>\n",
       "      <td>211</td>\n",
       "      <td>6</td>\n",
       "    </tr>\n",
       "    <tr>\n",
       "      <th>1</th>\n",
       "      <td>lue_jula</td>\n",
       "      <td>465</td>\n",
       "      <td>1560</td>\n",
       "      <td>66</td>\n",
       "    </tr>\n",
       "    <tr>\n",
       "      <th>2</th>\n",
       "      <td>HaiLina16</td>\n",
       "      <td>36</td>\n",
       "      <td>66</td>\n",
       "      <td>0</td>\n",
       "    </tr>\n",
       "    <tr>\n",
       "      <th>3</th>\n",
       "      <td>emmafraxanet</td>\n",
       "      <td>260</td>\n",
       "      <td>221</td>\n",
       "      <td>84</td>\n",
       "    </tr>\n",
       "    <tr>\n",
       "      <th>4</th>\n",
       "      <td>apeksha_sh</td>\n",
       "      <td>223</td>\n",
       "      <td>248</td>\n",
       "      <td>154</td>\n",
       "    </tr>\n",
       "  </tbody>\n",
       "</table>\n",
       "</div>"
      ],
      "text/plain": [
       "    screen_name  followers_count  friends_count  statuses_count\n",
       "0     aroyehunS               39            211               6\n",
       "1      lue_jula              465           1560              66\n",
       "2     HaiLina16               36             66               0\n",
       "3  emmafraxanet              260            221              84\n",
       "4    apeksha_sh              223            248             154"
      ]
     },
     "execution_count": 7,
     "metadata": {},
     "output_type": "execute_result"
    }
   ],
   "source": [
    "data_followers = []\n",
    "for follower in followers[0]:\n",
    "    data_append = [follower.data['username'], follower.data['public_metrics']['followers_count'], follower.data['public_metrics']['following_count'], follower.data['public_metrics']['tweet_count']]\n",
    "    data_followers.append(data_append)\n",
    "\n",
    "data_followers = pd.DataFrame(data_followers, columns=['screen_name', 'followers_count', 'friends_count', 'statuses_count'])\n",
    "\n",
    "print('User %s has %d followers. Their followers have on average %d followers.' % (user, data_followers.shape[0], data_followers.followers_count.mean()))\n",
    "\n",
    "data_followers.head()"
   ]
  }
 ],
 "metadata": {
  "kernelspec": {
   "display_name": "dev",
   "language": "python",
   "name": "python3"
  },
  "language_info": {
   "codemirror_mode": {
    "name": "ipython",
    "version": 3
   },
   "file_extension": ".py",
   "mimetype": "text/x-python",
   "name": "python",
   "nbconvert_exporter": "python",
   "pygments_lexer": "ipython3",
   "version": "3.11.2"
  },
  "orig_nbformat": 4
 },
 "nbformat": 4,
 "nbformat_minor": 2
}
